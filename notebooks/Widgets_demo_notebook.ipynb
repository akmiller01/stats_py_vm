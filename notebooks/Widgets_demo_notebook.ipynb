{
 "metadata": {
  "name": "",
  "signature": "sha256:10d644327c0d54252d1fd4bf40d8548bc7148b58982b5fd6bdcbf9d42a0a2e9c"
 },
 "nbformat": 3,
 "nbformat_minor": 0,
 "worksheets": [
  {
   "cells": [
    {
     "cell_type": "markdown",
     "metadata": {},
     "source": [
      "This IPython notebook is designed to be used with user interface widgets such as \"Buttons\", \"Lists\" and \"Edit fields\" rather than entering Python code in cells. To interact with the notebook first select \"Cell/Run All\" from the menu, then follow the steps below."
     ]
    },
    {
     "cell_type": "markdown",
     "metadata": {
      "slideshow": {
       "slide_type": "notes"
      }
     },
     "source": [
      "## Step 1\n",
      "\n",
      "Enter the input file name and click `Process file`. Enter `test.csv` for an example input file."
     ]
    },
    {
     "cell_type": "code",
     "collapsed": false,
     "input": [
      "import widget_demo; reload(widget_demo)\n",
      "dg = widget_demo.DialogGroup()\n",
      "dg.displayFileDialog()"
     ],
     "language": "python",
     "metadata": {},
     "outputs": [
      {
       "output_type": "stream",
       "stream": "stdout",
       "text": [
        "Processing input file test.csv.."
       ]
      },
      {
       "output_type": "stream",
       "stream": "stdout",
       "text": [
        "."
       ]
      },
      {
       "output_type": "stream",
       "stream": "stdout",
       "text": [
        "."
       ]
      },
      {
       "output_type": "stream",
       "stream": "stdout",
       "text": [
        "."
       ]
      },
      {
       "output_type": "stream",
       "stream": "stdout",
       "text": [
        "done"
       ]
      },
      {
       "output_type": "stream",
       "stream": "stdout",
       "text": [
        "\n"
       ]
      }
     ],
     "prompt_number": 69
    },
    {
     "cell_type": "markdown",
     "metadata": {},
     "source": [
      "## Step 2\n",
      "\n",
      "Select the item in the list box to display the detailed information"
     ]
    },
    {
     "cell_type": "code",
     "collapsed": false,
     "input": [
      "dg.displayResultsDialog()"
     ],
     "language": "python",
     "metadata": {},
     "outputs": [],
     "prompt_number": 70
    }
   ],
   "metadata": {}
  }
 ]
}